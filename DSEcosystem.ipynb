{
  "metadata": {
    "kernelspec": {
      "name": "python",
      "display_name": "Python (Pyodide)",
      "language": "python"
    },
    "language_info": {
      "codemirror_mode": {
        "name": "python",
        "version": 3
      },
      "file_extension": ".py",
      "mimetype": "text/x-python",
      "name": "python",
      "nbconvert_exporter": "python",
      "pygments_lexer": "ipython3",
      "version": "3.8"
    }
  },
  "nbformat_minor": 4,
  "nbformat": 4,
  "cells": [
    {
      "cell_type": "markdown",
      "source": "### Data science Tools and Ecosystem",
      "metadata": {}
    },
    {
      "cell_type": "markdown",
      "source": "In this notebook,Data Science and Ecosystem are Summarized",
      "metadata": {}
    },
    {
      "cell_type": "markdown",
      "source": "Some of the popular language that Data Scienxe use are:\n1. Python\n2. R\n3. sql\n4. c++",
      "metadata": {}
    },
    {
      "cell_type": "markdown",
      "source": "some of the commonly and libaries usede by Data Sciene include\n1. Tensorflow\n2. Numpy\n3. Scipy\n4. Pandas\n5. Keras\n6. Matplotlib\n7. Pytouch",
      "metadata": {}
    },
    {
      "cell_type": "markdown",
      "source": "|Data Science Tools|\n|-------------------|\n|SAS|\n|Apache Hadoop|\n|Tensor Flow|",
      "metadata": {}
    },
    {
      "cell_type": "markdown",
      "source": "### Below are a few examples of evaluating arithmetic expressions in Python",
      "metadata": {}
    },
    {
      "cell_type": "code",
      "source": "# This is a simple arithmetic expression to multiply then add integers\n(3*4)+5",
      "metadata": {
        "trusted": true
      },
      "outputs": [
        {
          "execution_count": 4,
          "output_type": "execute_result",
          "data": {
            "text/plain": "17"
          },
          "metadata": {}
        }
      ],
      "execution_count": 4
    },
    {
      "cell_type": "code",
      "source": "# This will convert 200 minutes to hours by diving by 60\n200/60",
      "metadata": {
        "trusted": true
      },
      "outputs": [
        {
          "execution_count": 5,
          "output_type": "execute_result",
          "data": {
            "text/plain": "3.3333333333333335"
          },
          "metadata": {}
        }
      ],
      "execution_count": 5
    },
    {
      "cell_type": "markdown",
      "source": "Objectives:\n- List popular languages for Data Science\n- List popular librarirs for Data Science\n- List od well known Data Science Tools",
      "metadata": {}
    },
    {
      "cell_type": "markdown",
      "source": "### Author",
      "metadata": {}
    },
    {
      "cell_type": "markdown",
      "source": "Sankar Sai Sriram Ankireddy",
      "metadata": {}
    }
  ]
}